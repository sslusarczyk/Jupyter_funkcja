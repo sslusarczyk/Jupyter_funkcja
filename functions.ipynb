{
 "cells": [
  {
   "cell_type": "markdown",
   "id": "79b44d18-537d-4597-9f98-e09a19cb97df",
   "metadata": {},
   "source": [
    "używamy słowa def"
   ]
  },
  {
   "cell_type": "code",
   "execution_count": 3,
   "id": "55f677db-636f-4ffb-8319-65c227fa7829",
   "metadata": {},
   "outputs": [],
   "source": [
    "def dodawanie(a, b):\n",
    "    return a + b"
   ]
  },
  {
   "cell_type": "markdown",
   "id": "3a5bca4c-0021-4ed5-a62d-c9f93194feb9",
   "metadata": {},
   "source": [
    "używamy nawiasów okrągłych aby utworzyc funckje"
   ]
  },
  {
   "cell_type": "code",
   "execution_count": 4,
   "id": "8980ddd7-4ca8-4fd5-babe-e14cca25d5e5",
   "metadata": {},
   "outputs": [
    {
     "name": "stdout",
     "output_type": "stream",
     "text": [
      "Wynik dodawania: 8\n"
     ]
    }
   ],
   "source": [
    "wynik = dodawanie(3, 5)\n",
    "print(\"Wynik dodawania:\", wynik)"
   ]
  },
  {
   "cell_type": "code",
   "execution_count": null,
   "id": "4206afea-6ac8-4a4c-bd6f-9d88d3314273",
   "metadata": {},
   "outputs": [],
   "source": []
  }
 ],
 "metadata": {
  "kernelspec": {
   "display_name": "Python 3 (ipykernel)",
   "language": "python",
   "name": "python3"
  },
  "language_info": {
   "codemirror_mode": {
    "name": "ipython",
    "version": 3
   },
   "file_extension": ".py",
   "mimetype": "text/x-python",
   "name": "python",
   "nbconvert_exporter": "python",
   "pygments_lexer": "ipython3",
   "version": "3.12.1"
  }
 },
 "nbformat": 4,
 "nbformat_minor": 5
}
